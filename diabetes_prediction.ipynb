{
 "cells": [
  {
   "cell_type": "markdown",
   "id": "d103ce33-b096-4a90-b0dc-6117805f3a8c",
   "metadata": {},
   "source": [
    "## 读取数据"
   ]
  },
  {
   "cell_type": "markdown",
   "id": "e6ef6102-0675-4e68-bc5c-04d4f1b4c14d",
   "metadata": {},
   "source": [
    "##### 导入数据分析所需要的库，并通过Pandas的`read_csv`函数，将原始数据文件`Iris.csv`里的数据内容，解析为DataFrame并赋值给变量`original_data`。"
   ]
  },
  {
   "cell_type": "code",
   "execution_count": 1,
   "id": "a1f0ecbf-c5ac-4547-b085-83320abbf5e2",
   "metadata": {},
   "outputs": [],
   "source": [
    "import pandas as pd\n",
    "import matplotlib.pyplot as plt\n",
    "import seaborn as sns"
   ]
  },
  {
   "cell_type": "code",
   "execution_count": 2,
   "id": "73b7de25-2be9-4a7e-b4e3-f478574ff676",
   "metadata": {},
   "outputs": [],
   "source": [
    "original_data = pd.read_csv(\"C:\\\\Users\\\\29335\\\\Desktop\\\\diabetes_prediction.csv\")"
   ]
  },
  {
   "cell_type": "markdown",
   "id": "6eaa8c56-dbca-4861-8875-2646b505b690",
   "metadata": {},
   "source": [
    "original_data.head()"
   ]
  },
  {
   "cell_type": "markdown",
   "id": "5c4cf244-5368-4295-baa3-50315cd8dcb4",
   "metadata": {},
   "source": [
    "## 评估和清理数据"
   ]
  },
  {
   "cell_type": "markdown",
   "id": "a1609352-2b77-412e-97c1-19128571b417",
   "metadata": {},
   "source": [
    "##### 在这一部分中，我们将对在上一部分建立的original_dataDataFrame所包含的数据进行评估和清理。\r\n",
    "\r\n",
    "主要从两个方面进行：结构和内容，即整齐度和干净度。\r\n",
    "\r\n",
    "数据的结构性问题指不符合“每个变量为一列，每个观察值为一行，每种类型的观察单位为一个表格”这三个标准；数据的内容性问题包括存在丢失数据、重复数据、无效数据等。\r\n",
    "\r\n",
    "为了区分开经过清理的数据和原始的数据，我们创建新的变量cleaned_data，让它为original_data复制出的副本。我们之后的清理步骤都将被运用在cleaned_data上。"
   ]
  },
  {
   "cell_type": "code",
   "execution_count": 3,
   "id": "8334c32a-f868-419f-94cd-b0a594814d75",
   "metadata": {},
   "outputs": [],
   "source": [
    "cleaned_data = original_data.copy()"
   ]
  },
  {
   "cell_type": "markdown",
   "id": "c91caeb4-ad59-4027-a68d-e619266b2154",
   "metadata": {},
   "source": [
    "### 数据整齐度"
   ]
  },
  {
   "cell_type": "code",
   "execution_count": 4,
   "id": "6952dbae-39f5-4b4c-a686-b69d86a5f20e",
   "metadata": {},
   "outputs": [
    {
     "data": {
      "text/html": [
       "<div>\n",
       "<style scoped>\n",
       "    .dataframe tbody tr th:only-of-type {\n",
       "        vertical-align: middle;\n",
       "    }\n",
       "\n",
       "    .dataframe tbody tr th {\n",
       "        vertical-align: top;\n",
       "    }\n",
       "\n",
       "    .dataframe thead th {\n",
       "        text-align: right;\n",
       "    }\n",
       "</style>\n",
       "<table border=\"1\" class=\"dataframe\">\n",
       "  <thead>\n",
       "    <tr style=\"text-align: right;\">\n",
       "      <th></th>\n",
       "      <th>gender</th>\n",
       "      <th>age</th>\n",
       "      <th>hypertension</th>\n",
       "      <th>heart_disease</th>\n",
       "      <th>smoking_history</th>\n",
       "      <th>bmi</th>\n",
       "      <th>HbA1c_level</th>\n",
       "      <th>blood_glucose_level</th>\n",
       "      <th>diabetes</th>\n",
       "    </tr>\n",
       "  </thead>\n",
       "  <tbody>\n",
       "    <tr>\n",
       "      <th>0</th>\n",
       "      <td>Female</td>\n",
       "      <td>80.0</td>\n",
       "      <td>0</td>\n",
       "      <td>1</td>\n",
       "      <td>never</td>\n",
       "      <td>25.19</td>\n",
       "      <td>6.6</td>\n",
       "      <td>140</td>\n",
       "      <td>0</td>\n",
       "    </tr>\n",
       "    <tr>\n",
       "      <th>1</th>\n",
       "      <td>Female</td>\n",
       "      <td>54.0</td>\n",
       "      <td>0</td>\n",
       "      <td>0</td>\n",
       "      <td>No Info</td>\n",
       "      <td>27.32</td>\n",
       "      <td>6.6</td>\n",
       "      <td>80</td>\n",
       "      <td>0</td>\n",
       "    </tr>\n",
       "    <tr>\n",
       "      <th>2</th>\n",
       "      <td>Male</td>\n",
       "      <td>28.0</td>\n",
       "      <td>0</td>\n",
       "      <td>0</td>\n",
       "      <td>never</td>\n",
       "      <td>27.32</td>\n",
       "      <td>5.7</td>\n",
       "      <td>158</td>\n",
       "      <td>0</td>\n",
       "    </tr>\n",
       "    <tr>\n",
       "      <th>3</th>\n",
       "      <td>Female</td>\n",
       "      <td>36.0</td>\n",
       "      <td>0</td>\n",
       "      <td>0</td>\n",
       "      <td>current</td>\n",
       "      <td>23.45</td>\n",
       "      <td>5.0</td>\n",
       "      <td>155</td>\n",
       "      <td>0</td>\n",
       "    </tr>\n",
       "    <tr>\n",
       "      <th>4</th>\n",
       "      <td>Male</td>\n",
       "      <td>76.0</td>\n",
       "      <td>1</td>\n",
       "      <td>1</td>\n",
       "      <td>current</td>\n",
       "      <td>20.14</td>\n",
       "      <td>4.8</td>\n",
       "      <td>155</td>\n",
       "      <td>0</td>\n",
       "    </tr>\n",
       "    <tr>\n",
       "      <th>5</th>\n",
       "      <td>Female</td>\n",
       "      <td>20.0</td>\n",
       "      <td>0</td>\n",
       "      <td>0</td>\n",
       "      <td>never</td>\n",
       "      <td>27.32</td>\n",
       "      <td>6.6</td>\n",
       "      <td>85</td>\n",
       "      <td>0</td>\n",
       "    </tr>\n",
       "    <tr>\n",
       "      <th>6</th>\n",
       "      <td>Female</td>\n",
       "      <td>44.0</td>\n",
       "      <td>0</td>\n",
       "      <td>0</td>\n",
       "      <td>never</td>\n",
       "      <td>19.31</td>\n",
       "      <td>6.5</td>\n",
       "      <td>200</td>\n",
       "      <td>1</td>\n",
       "    </tr>\n",
       "    <tr>\n",
       "      <th>7</th>\n",
       "      <td>Female</td>\n",
       "      <td>79.0</td>\n",
       "      <td>0</td>\n",
       "      <td>0</td>\n",
       "      <td>No Info</td>\n",
       "      <td>23.86</td>\n",
       "      <td>5.7</td>\n",
       "      <td>85</td>\n",
       "      <td>0</td>\n",
       "    </tr>\n",
       "    <tr>\n",
       "      <th>8</th>\n",
       "      <td>Male</td>\n",
       "      <td>42.0</td>\n",
       "      <td>0</td>\n",
       "      <td>0</td>\n",
       "      <td>never</td>\n",
       "      <td>33.64</td>\n",
       "      <td>4.8</td>\n",
       "      <td>145</td>\n",
       "      <td>0</td>\n",
       "    </tr>\n",
       "    <tr>\n",
       "      <th>9</th>\n",
       "      <td>Female</td>\n",
       "      <td>32.0</td>\n",
       "      <td>0</td>\n",
       "      <td>0</td>\n",
       "      <td>never</td>\n",
       "      <td>27.32</td>\n",
       "      <td>5.0</td>\n",
       "      <td>100</td>\n",
       "      <td>0</td>\n",
       "    </tr>\n",
       "  </tbody>\n",
       "</table>\n",
       "</div>"
      ],
      "text/plain": [
       "   gender   age  hypertension  heart_disease smoking_history    bmi  \\\n",
       "0  Female  80.0             0              1           never  25.19   \n",
       "1  Female  54.0             0              0         No Info  27.32   \n",
       "2    Male  28.0             0              0           never  27.32   \n",
       "3  Female  36.0             0              0         current  23.45   \n",
       "4    Male  76.0             1              1         current  20.14   \n",
       "5  Female  20.0             0              0           never  27.32   \n",
       "6  Female  44.0             0              0           never  19.31   \n",
       "7  Female  79.0             0              0         No Info  23.86   \n",
       "8    Male  42.0             0              0           never  33.64   \n",
       "9  Female  32.0             0              0           never  27.32   \n",
       "\n",
       "   HbA1c_level  blood_glucose_level  diabetes  \n",
       "0          6.6                  140         0  \n",
       "1          6.6                   80         0  \n",
       "2          5.7                  158         0  \n",
       "3          5.0                  155         0  \n",
       "4          4.8                  155         0  \n",
       "5          6.6                   85         0  \n",
       "6          6.5                  200         1  \n",
       "7          5.7                   85         0  \n",
       "8          4.8                  145         0  \n",
       "9          5.0                  100         0  "
      ]
     },
     "execution_count": 4,
     "metadata": {},
     "output_type": "execute_result"
    }
   ],
   "source": [
    "cleaned_data.head(10)"
   ]
  },
  {
   "cell_type": "markdown",
   "id": "841b23fc-181b-4c7b-a44c-07c340ad7736",
   "metadata": {},
   "source": [
    "##### 从头部的10行数据来看，数据符合“每个变量为一列，每个观察值为一行，每种类型的观察单位为一个表格”，因此不存在结构性问题。"
   ]
  },
  {
   "cell_type": "markdown",
   "id": "e3ba253e-1f31-4dec-9145-f1dcfc6e17bf",
   "metadata": {},
   "source": [
    "### 数据干净度"
   ]
  },
  {
   "cell_type": "markdown",
   "id": "0347a60b-5cfb-4c6a-93c4-256dd2e3574f",
   "metadata": {},
   "source": [
    "##### 接下来通过`info`，对数据内容进行大致了解。"
   ]
  },
  {
   "cell_type": "code",
   "execution_count": 5,
   "id": "a0e405ae-4f9f-4442-b211-9bf0d4dec49d",
   "metadata": {},
   "outputs": [
    {
     "name": "stdout",
     "output_type": "stream",
     "text": [
      "<class 'pandas.core.frame.DataFrame'>\n",
      "RangeIndex: 100000 entries, 0 to 99999\n",
      "Data columns (total 9 columns):\n",
      " #   Column               Non-Null Count   Dtype  \n",
      "---  ------               --------------   -----  \n",
      " 0   gender               100000 non-null  object \n",
      " 1   age                  100000 non-null  float64\n",
      " 2   hypertension         100000 non-null  int64  \n",
      " 3   heart_disease        100000 non-null  int64  \n",
      " 4   smoking_history      100000 non-null  object \n",
      " 5   bmi                  100000 non-null  float64\n",
      " 6   HbA1c_level          100000 non-null  float64\n",
      " 7   blood_glucose_level  100000 non-null  int64  \n",
      " 8   diabetes             100000 non-null  int64  \n",
      "dtypes: float64(3), int64(4), object(2)\n",
      "memory usage: 6.9+ MB\n"
     ]
    }
   ],
   "source": [
    "cleaned_data.info()"
   ]
  },
  {
   "cell_type": "markdown",
   "id": "aebb9ff6-5c6b-44b2-b751-6f0717496ca7",
   "metadata": {},
   "source": [
    "##### 从输出结果来看，cleaned_data共有100000条观察值，变量不存在缺失值。数据类型方面，我们已知gender(性别)、hypertension（是否患有高血压）、heart_disease（是否患有心脏病）、smoking_history（吸烟史）、diabetes（是否患有糖尿病）都是分类数据，可以把数据类型都转换为Category。\r\n",
    "\r\n"
   ]
  },
  {
   "cell_type": "code",
   "execution_count": 6,
   "id": "e468a85f-1da9-4d11-bffe-e1f94845b9ae",
   "metadata": {},
   "outputs": [],
   "source": [
    "cleaned_data['gender'] = cleaned_data['gender'].astype('category')\n",
    "cleaned_data['hypertension'] = cleaned_data['hypertension'].astype('category')\n",
    "cleaned_data['heart_disease'] = cleaned_data['heart_disease'].astype('category')\n",
    "cleaned_data['diabetes'] = cleaned_data['diabetes'].astype('category')\n",
    "cleaned_data['smoking_history'] = cleaned_data['smoking_history'].astype('category')"
   ]
  },
  {
   "cell_type": "code",
   "execution_count": 7,
   "id": "b8e2bb97-c82d-4639-b80a-18eef5d8942f",
   "metadata": {},
   "outputs": [
    {
     "name": "stdout",
     "output_type": "stream",
     "text": [
      "<class 'pandas.core.frame.DataFrame'>\n",
      "RangeIndex: 100000 entries, 0 to 99999\n",
      "Data columns (total 9 columns):\n",
      " #   Column               Non-Null Count   Dtype   \n",
      "---  ------               --------------   -----   \n",
      " 0   gender               100000 non-null  category\n",
      " 1   age                  100000 non-null  float64 \n",
      " 2   hypertension         100000 non-null  category\n",
      " 3   heart_disease        100000 non-null  category\n",
      " 4   smoking_history      100000 non-null  category\n",
      " 5   bmi                  100000 non-null  float64 \n",
      " 6   HbA1c_level          100000 non-null  float64 \n",
      " 7   blood_glucose_level  100000 non-null  int64   \n",
      " 8   diabetes             100000 non-null  category\n",
      "dtypes: category(5), float64(3), int64(1)\n",
      "memory usage: 3.5 MB\n"
     ]
    }
   ],
   "source": [
    "cleaned_data.info()"
   ]
  },
  {
   "cell_type": "markdown",
   "id": "064c18a7-0fe7-4c0f-a7bb-093cf1afa7ac",
   "metadata": {},
   "source": [
    "#### 处理缺失数据"
   ]
  },
  {
   "cell_type": "markdown",
   "id": "38faa30a-740d-47b6-9d6a-965370006117",
   "metadata": {},
   "source": [
    "##### 从`info`方法的输出结果来看，在cleaned_data`中，不存在缺失值。"
   ]
  },
  {
   "cell_type": "markdown",
   "id": "4d96e626-74bd-4e40-beed-ef50bc22e1ba",
   "metadata": {},
   "source": [
    "#### 处理重复数据"
   ]
  },
  {
   "cell_type": "markdown",
   "id": "3e4b12ca-45a5-40a9-b52d-2793d9636512",
   "metadata": {},
   "source": [
    "##### 根据数据变量的含义以及内容来看，cleaned_data里的均允许重复，所以可以不进行重复数据的评估。"
   ]
  },
  {
   "cell_type": "markdown",
   "id": "b0d597f0-a547-48c2-9313-b496997dab42",
   "metadata": {},
   "source": [
    "#### 处理不一致数据"
   ]
  },
  {
   "cell_type": "markdown",
   "id": "467a0885-92c3-4bfa-a71a-f8c8179bdbc0",
   "metadata": {},
   "source": [
    "##### 不一致数据可能存在于所有分类变量中，我们要查看是否存在不同值实际指代同一目标的情况。"
   ]
  },
  {
   "cell_type": "code",
   "execution_count": 8,
   "id": "bb597354-905f-4bdb-879f-6dd35e8a9cab",
   "metadata": {},
   "outputs": [
    {
     "data": {
      "text/plain": [
       "hypertension\n",
       "0    92515\n",
       "1     7485\n",
       "Name: count, dtype: int64"
      ]
     },
     "execution_count": 8,
     "metadata": {},
     "output_type": "execute_result"
    }
   ],
   "source": [
    "cleaned_data[\"hypertension\"].value_counts()"
   ]
  },
  {
   "cell_type": "code",
   "execution_count": 9,
   "id": "bbba990a-192b-4250-b1fe-f579bb98868b",
   "metadata": {},
   "outputs": [
    {
     "data": {
      "text/plain": [
       "heart_disease\n",
       "0    96058\n",
       "1     3942\n",
       "Name: count, dtype: int64"
      ]
     },
     "execution_count": 9,
     "metadata": {},
     "output_type": "execute_result"
    }
   ],
   "source": [
    "cleaned_data[\"heart_disease\"].value_counts()"
   ]
  },
  {
   "cell_type": "code",
   "execution_count": 10,
   "id": "35ad1cbc-eb15-4a53-844d-f0887005a75f",
   "metadata": {},
   "outputs": [
    {
     "data": {
      "text/plain": [
       "diabetes\n",
       "0    91500\n",
       "1     8500\n",
       "Name: count, dtype: int64"
      ]
     },
     "execution_count": 10,
     "metadata": {},
     "output_type": "execute_result"
    }
   ],
   "source": [
    "cleaned_data[\"diabetes\"].value_counts()"
   ]
  },
  {
   "cell_type": "code",
   "execution_count": 11,
   "id": "f7ea31fb-e3ea-490c-88a9-85290ea18737",
   "metadata": {},
   "outputs": [
    {
     "data": {
      "text/plain": [
       "smoking_history\n",
       "No Info        35816\n",
       "never          35095\n",
       "former          9352\n",
       "current         9286\n",
       "not current     6447\n",
       "ever            4004\n",
       "Name: count, dtype: int64"
      ]
     },
     "execution_count": 11,
     "metadata": {},
     "output_type": "execute_result"
    }
   ],
   "source": [
    "cleaned_data[\"smoking_history\"].value_counts()"
   ]
  },
  {
   "cell_type": "code",
   "execution_count": 12,
   "id": "e0934c2f-35e9-4de6-bfde-9ee8a68fa70a",
   "metadata": {},
   "outputs": [
    {
     "data": {
      "text/plain": [
       "gender\n",
       "Female    58552\n",
       "Male      41430\n",
       "Other        18\n",
       "Name: count, dtype: int64"
      ]
     },
     "execution_count": 12,
     "metadata": {},
     "output_type": "execute_result"
    }
   ],
   "source": [
    "cleaned_data[\"gender\"].value_counts()"
   ]
  },
  {
   "cell_type": "markdown",
   "id": "1b1664cb-d9ae-496b-a51d-5687d7e74fb3",
   "metadata": {},
   "source": [
    "##### 从以上输出结果来看，均不存在不一致数据。"
   ]
  },
  {
   "cell_type": "markdown",
   "id": "2b705371-9902-4d40-ae46-bf5cf73e26e0",
   "metadata": {},
   "source": [
    "#### 处理无效或错误数据"
   ]
  },
  {
   "cell_type": "markdown",
   "id": "f52e9a1e-9ee3-4ab9-a2f6-a7a1d5f68d48",
   "metadata": {},
   "source": [
    "##### 可以通过DataFrame的`describe`方法，对数值统计信息进行快速了解。"
   ]
  },
  {
   "cell_type": "code",
   "execution_count": 13,
   "id": "ad1da893-45bb-4ed6-b2ca-239094e3745f",
   "metadata": {},
   "outputs": [
    {
     "data": {
      "text/html": [
       "<div>\n",
       "<style scoped>\n",
       "    .dataframe tbody tr th:only-of-type {\n",
       "        vertical-align: middle;\n",
       "    }\n",
       "\n",
       "    .dataframe tbody tr th {\n",
       "        vertical-align: top;\n",
       "    }\n",
       "\n",
       "    .dataframe thead th {\n",
       "        text-align: right;\n",
       "    }\n",
       "</style>\n",
       "<table border=\"1\" class=\"dataframe\">\n",
       "  <thead>\n",
       "    <tr style=\"text-align: right;\">\n",
       "      <th></th>\n",
       "      <th>age</th>\n",
       "      <th>bmi</th>\n",
       "      <th>HbA1c_level</th>\n",
       "      <th>blood_glucose_level</th>\n",
       "    </tr>\n",
       "  </thead>\n",
       "  <tbody>\n",
       "    <tr>\n",
       "      <th>count</th>\n",
       "      <td>100000.000000</td>\n",
       "      <td>100000.000000</td>\n",
       "      <td>100000.000000</td>\n",
       "      <td>100000.000000</td>\n",
       "    </tr>\n",
       "    <tr>\n",
       "      <th>mean</th>\n",
       "      <td>41.885856</td>\n",
       "      <td>27.320767</td>\n",
       "      <td>5.527507</td>\n",
       "      <td>138.058060</td>\n",
       "    </tr>\n",
       "    <tr>\n",
       "      <th>std</th>\n",
       "      <td>22.516840</td>\n",
       "      <td>6.636783</td>\n",
       "      <td>1.070672</td>\n",
       "      <td>40.708136</td>\n",
       "    </tr>\n",
       "    <tr>\n",
       "      <th>min</th>\n",
       "      <td>0.080000</td>\n",
       "      <td>10.010000</td>\n",
       "      <td>3.500000</td>\n",
       "      <td>80.000000</td>\n",
       "    </tr>\n",
       "    <tr>\n",
       "      <th>25%</th>\n",
       "      <td>24.000000</td>\n",
       "      <td>23.630000</td>\n",
       "      <td>4.800000</td>\n",
       "      <td>100.000000</td>\n",
       "    </tr>\n",
       "    <tr>\n",
       "      <th>50%</th>\n",
       "      <td>43.000000</td>\n",
       "      <td>27.320000</td>\n",
       "      <td>5.800000</td>\n",
       "      <td>140.000000</td>\n",
       "    </tr>\n",
       "    <tr>\n",
       "      <th>75%</th>\n",
       "      <td>60.000000</td>\n",
       "      <td>29.580000</td>\n",
       "      <td>6.200000</td>\n",
       "      <td>159.000000</td>\n",
       "    </tr>\n",
       "    <tr>\n",
       "      <th>max</th>\n",
       "      <td>80.000000</td>\n",
       "      <td>95.690000</td>\n",
       "      <td>9.000000</td>\n",
       "      <td>300.000000</td>\n",
       "    </tr>\n",
       "  </tbody>\n",
       "</table>\n",
       "</div>"
      ],
      "text/plain": [
       "                 age            bmi    HbA1c_level  blood_glucose_level\n",
       "count  100000.000000  100000.000000  100000.000000        100000.000000\n",
       "mean       41.885856      27.320767       5.527507           138.058060\n",
       "std        22.516840       6.636783       1.070672            40.708136\n",
       "min         0.080000      10.010000       3.500000            80.000000\n",
       "25%        24.000000      23.630000       4.800000           100.000000\n",
       "50%        43.000000      27.320000       5.800000           140.000000\n",
       "75%        60.000000      29.580000       6.200000           159.000000\n",
       "max        80.000000      95.690000       9.000000           300.000000"
      ]
     },
     "execution_count": 13,
     "metadata": {},
     "output_type": "execute_result"
    }
   ],
   "source": [
    "cleaned_data.describe()"
   ]
  },
  {
   "cell_type": "markdown",
   "id": "f8700771-63b2-4310-b8ab-2c1faa1f85cd",
   "metadata": {},
   "source": [
    "##### 人口年龄平均为41岁左右，最大值为80岁，最小值为0.08岁。bmi身体质量指数平均27左右，最大值为95.69，最小值为10.01。HbA1c_level糖化血红蛋白水平平均5.5%左右，最大值为9.0%，最小值为3.5%。blood_glucose_level血糖水平平均为138左右，最大值为300，最小值为80。数据不存在脱离现实的数值。"
   ]
  },
  {
   "cell_type": "markdown",
   "id": "dc030448-4506-4627-9498-ddd8d2f49645",
   "metadata": {},
   "source": [
    "## 探索数据"
   ]
  },
  {
   "cell_type": "markdown",
   "id": "76dc781f-3c90-43db-8379-abfd26e147e7",
   "metadata": {},
   "source": [
    "##### 在着手推断统计学分析之前，我们可以先借助数据可视化，探索变量的分布，以及与患有糖尿病存在相关性的变量，为后续的进一步分析提供方向。\n",
    "我们可以利用该数据集探索各种医疗和人口统计因素与糖尿病的可能性之间的关系。"
   ]
  },
  {
   "cell_type": "code",
   "execution_count": 14,
   "id": "5c94cc03-6c8e-47e5-8caa-04fde1c29e57",
   "metadata": {},
   "outputs": [],
   "source": [
    "# 设置图表色盘为\"pastel\"\n",
    "sns.set_palette(\"pastel\")"
   ]
  },
  {
   "cell_type": "code",
   "execution_count": 15,
   "id": "a8b6bdfb-4529-4185-940c-aa4b0995c309",
   "metadata": {},
   "outputs": [],
   "source": [
    "# 设置图表尺寸\n",
    "plt.rcParams[\"figure.figsize\"] = [9.00, 3.50]\n",
    "plt.rcParams[\"figure.autolayout\"] = True"
   ]
  },
  {
   "cell_type": "markdown",
   "id": "792a33ec-14a2-4e81-95cf-3190f4c54ccd",
   "metadata": {},
   "source": [
    "### 患糖尿病比例"
   ]
  },
  {
   "cell_type": "code",
   "execution_count": 16,
   "id": "8115b51c-02d3-4e4a-b4ed-922b03635dd0",
   "metadata": {},
   "outputs": [
    {
     "data": {
      "image/png": "[encoded data removed]",
      "text/plain": [
       "<Figure size 900x350 with 1 Axes>"
      ]
     },
     "metadata": {},
     "output_type": "display_data"
    }
   ],
   "source": [
    "diabetes_count = cleaned_data['diabetes'].value_counts()\n",
    "diabetes_label = diabetes_count.index\n",
    "plt.pie(diabetes_count, labels=diabetes_label, autopct='%.1f%%')\n",
    "plt.show()"
   ]
  },
  {
   "cell_type": "markdown",
   "id": "33028a08-1d93-4cd4-b40e-a2b2a4a94b89",
   "metadata": {},
   "source": [
    "##### 从以上饼图来看，患糖尿病的患者约占总人数的10%"
   ]
  },
  {
   "cell_type": "markdown",
   "id": "407db687-ef94-4e07-9518-9631699750b2",
   "metadata": {},
   "source": [
    "### 人口年龄"
   ]
  },
  {
   "cell_type": "code",
   "execution_count": 17,
   "id": "af4003a8-ef85-4623-94ca-6c16fbe00e8e",
   "metadata": {},
   "outputs": [
    {
     "name": "stderr",
     "output_type": "stream",
     "text": [
      "D:\\Anaconda\\Lib\\site-packages\\seaborn\\_oldcore.py:1119: FutureWarning: use_inf_as_na option is deprecated and will be removed in a future version. Convert inf values to NaN before operating instead.\n",
      "  with pd.option_context('mode.use_inf_as_na', True):\n"
     ]
    },
    {
     "data": {
      "image/png": "[encoded data removed]",
      "text/plain": [
       "<Figure size 900x350 with 2 Axes>"
      ]
     },
     "metadata": {},
     "output_type": "display_data"
    }
   ],
   "source": [
    "fig, axes = plt.subplots(1, 2)\n",
    "sns.histplot(cleaned_data, x='age', ax=axes[0])\n",
    "sns.boxplot(cleaned_data, y='age', ax=axes[1])\n",
    "plt.show()"
   ]
  },
  {
   "cell_type": "markdown",
   "id": "87224a57-13bb-4b78-8609-f90b0c50c896",
   "metadata": {},
   "source": [
    "##### 人口年龄分布均匀。"
   ]
  },
  {
   "cell_type": "markdown",
   "id": "7769cbce-80d4-4097-855e-f61c08ddba36",
   "metadata": {},
   "source": [
    "### 人口年龄与是否患糖尿病"
   ]
  },
  {
   "cell_type": "code",
   "execution_count": 18,
   "id": "5efd2ed5-f193-4bea-85ca-8487b6ecd48e",
   "metadata": {},
   "outputs": [
    {
     "name": "stderr",
     "output_type": "stream",
     "text": [
      "D:\\Anaconda\\Lib\\site-packages\\seaborn\\_oldcore.py:1119: FutureWarning: use_inf_as_na option is deprecated and will be removed in a future version. Convert inf values to NaN before operating instead.\n",
      "  with pd.option_context('mode.use_inf_as_na', True):\n",
      "D:\\Anaconda\\Lib\\site-packages\\seaborn\\_oldcore.py:1057: FutureWarning: The default of observed=False is deprecated and will be changed to True in a future version of pandas. Pass observed=False to retain current behavior or observed=True to adopt the future default and silence this warning.\n",
      "  grouped_data = data.groupby(\n",
      "D:\\Anaconda\\Lib\\site-packages\\seaborn\\_oldcore.py:1057: FutureWarning: The default of observed=False is deprecated and will be changed to True in a future version of pandas. Pass observed=False to retain current behavior or observed=True to adopt the future default and silence this warning.\n",
      "  grouped_data = data.groupby(\n"
     ]
    },
    {
     "data": {
      "image/png": "[encoded data removed]",
      "text/plain": [
       "<Figure size 900x350 with 1 Axes>"
      ]
     },
     "metadata": {},
     "output_type": "display_data"
    }
   ],
   "source": [
    "sns.histplot(data=cleaned_data, x='age', hue='diabetes', multiple='dodge', stat='count', alpha=0.4)\n",
    "plt.show()"
   ]
  },
  {
   "cell_type": "code",
   "execution_count": 19,
   "id": "d107c45a-f139-43c0-9503-8641ea96674f",
   "metadata": {},
   "outputs": [
    {
     "name": "stderr",
     "output_type": "stream",
     "text": [
      "D:\\Anaconda\\Lib\\site-packages\\seaborn\\_oldcore.py:1119: FutureWarning: use_inf_as_na option is deprecated and will be removed in a future version. Convert inf values to NaN before operating instead.\n",
      "  with pd.option_context('mode.use_inf_as_na', True):\n",
      "D:\\Anaconda\\Lib\\site-packages\\seaborn\\_oldcore.py:1057: FutureWarning: The default of observed=False is deprecated and will be changed to True in a future version of pandas. Pass observed=False to retain current behavior or observed=True to adopt the future default and silence this warning.\n",
      "  grouped_data = data.groupby(\n",
      "D:\\Anaconda\\Lib\\site-packages\\seaborn\\_oldcore.py:1057: FutureWarning: The default of observed=False is deprecated and will be changed to True in a future version of pandas. Pass observed=False to retain current behavior or observed=True to adopt the future default and silence this warning.\n",
      "  grouped_data = data.groupby(\n"
     ]
    },
    {
     "data": {
      "image/png": "[encoded data removed]",
      "text/plain": [
       "<Figure size 900x350 with 1 Axes>"
      ]
     },
     "metadata": {},
     "output_type": "display_data"
    }
   ],
   "source": [
    "sns.histplot(data=cleaned_data, x='gender', hue='diabetes', multiple='dodge', stat='count', alpha=0.4)\n",
    "plt.show()"
   ]
  },
  {
   "cell_type": "code",
   "execution_count": 20,
   "id": "ed441482-c11b-47ac-9e74-3b82b188f1da",
   "metadata": {},
   "outputs": [
    {
     "name": "stderr",
     "output_type": "stream",
     "text": [
      "D:\\Anaconda\\Lib\\site-packages\\seaborn\\_oldcore.py:1119: FutureWarning: use_inf_as_na option is deprecated and will be removed in a future version. Convert inf values to NaN before operating instead.\n",
      "  with pd.option_context('mode.use_inf_as_na', True):\n",
      "D:\\Anaconda\\Lib\\site-packages\\seaborn\\_oldcore.py:1057: FutureWarning: The default of observed=False is deprecated and will be changed to True in a future version of pandas. Pass observed=False to retain current behavior or observed=True to adopt the future default and silence this warning.\n",
      "  grouped_data = data.groupby(\n",
      "D:\\Anaconda\\Lib\\site-packages\\seaborn\\_oldcore.py:1057: FutureWarning: The default of observed=False is deprecated and will be changed to True in a future version of pandas. Pass observed=False to retain current behavior or observed=True to adopt the future default and silence this warning.\n",
      "  grouped_data = data.groupby(\n"
     ]
    },
    {
     "data": {
      "image/png": "[encoded data removed]",
      "text/plain": [
       "<Figure size 900x350 with 2 Axes>"
      ]
     },
     "metadata": {},
     "output_type": "display_data"
    }
   ],
   "source": [
    "fig, axes = plt.subplots(1, 2)\n",
    "smoking_history_count = cleaned_data['smoking_history'].value_counts()\n",
    "smoking_history_label = smoking_history_count.index\n",
    "axes[0].pie(smoking_history_count, labels=smoking_history_label,autopct='%.1f%%')\n",
    "sns.histplot(cleaned_data, x='smoking_history', hue='diabetes',multiple='dodge', stat='count', alpha=0.4,ax=axes[1])\n",
    "plt.show()"
   ]
  },
  {
   "cell_type": "code",
   "execution_count": 21,
   "id": "52968208-f7a2-4e18-bba1-808be44dab16",
   "metadata": {},
   "outputs": [
    {
     "name": "stderr",
     "output_type": "stream",
     "text": [
      "D:\\Anaconda\\Lib\\site-packages\\seaborn\\_oldcore.py:1119: FutureWarning: use_inf_as_na option is deprecated and will be removed in a future version. Convert inf values to NaN before operating instead.\n",
      "  with pd.option_context('mode.use_inf_as_na', True):\n",
      "D:\\Anaconda\\Lib\\site-packages\\seaborn\\_oldcore.py:1057: FutureWarning: The default of observed=False is deprecated and will be changed to True in a future version of pandas. Pass observed=False to retain current behavior or observed=True to adopt the future default and silence this warning.\n",
      "  grouped_data = data.groupby(\n",
      "D:\\Anaconda\\Lib\\site-packages\\seaborn\\_oldcore.py:1057: FutureWarning: The default of observed=False is deprecated and will be changed to True in a future version of pandas. Pass observed=False to retain current behavior or observed=True to adopt the future default and silence this warning.\n",
      "  grouped_data = data.groupby(\n"
     ]
    },
    {
     "data": {
      "image/png": "[encoded data removed]",
      "text/plain": [
       "<Figure size 900x350 with 2 Axes>"
      ]
     },
     "metadata": {},
     "output_type": "display_data"
    }
   ],
   "source": [
    "fig, axes = plt.subplots(1, 2)\n",
    "hypertension_count = cleaned_data['hypertension'].value_counts()\n",
    "hypertension_label = hypertension_count.index\n",
    "axes[0].pie(hypertension_count, labels=hypertension_label)\n",
    "sns.histplot(cleaned_data, x='hypertension', hue='diabetes',multiple='dodge', stat='count', alpha=0.4,ax=axes[1])\n",
    "plt.show()"
   ]
  },
  {
   "cell_type": "code",
   "execution_count": 22,
   "id": "2cac9236-5c47-4e32-b1ce-75009f6fb308",
   "metadata": {},
   "outputs": [
    {
     "data": {
      "text/plain": [
       "0        0\n",
       "1        0\n",
       "2        0\n",
       "3        0\n",
       "4        1\n",
       "        ..\n",
       "99995    0\n",
       "99996    0\n",
       "99997    0\n",
       "99998    0\n",
       "99999    0\n",
       "Name: hypertension, Length: 100000, dtype: category\n",
       "Categories (2, int64): [0, 1]"
      ]
     },
     "execution_count": 22,
     "metadata": {},
     "output_type": "execute_result"
    }
   ],
   "source": [
    "cleaned_data['hypertension']\n"
   ]
  },
  {
   "cell_type": "code",
   "execution_count": 23,
   "id": "a93fc57c-f919-4034-b308-a7c7949219ac",
   "metadata": {},
   "outputs": [
    {
     "name": "stderr",
     "output_type": "stream",
     "text": [
      "D:\\Anaconda\\Lib\\site-packages\\seaborn\\_oldcore.py:1119: FutureWarning: use_inf_as_na option is deprecated and will be removed in a future version. Convert inf values to NaN before operating instead.\n",
      "  with pd.option_context('mode.use_inf_as_na', True):\n",
      "D:\\Anaconda\\Lib\\site-packages\\seaborn\\_oldcore.py:1057: FutureWarning: The default of observed=False is deprecated and will be changed to True in a future version of pandas. Pass observed=False to retain current behavior or observed=True to adopt the future default and silence this warning.\n",
      "  grouped_data = data.groupby(\n",
      "D:\\Anaconda\\Lib\\site-packages\\seaborn\\_oldcore.py:1057: FutureWarning: The default of observed=False is deprecated and will be changed to True in a future version of pandas. Pass observed=False to retain current behavior or observed=True to adopt the future default and silence this warning.\n",
      "  grouped_data = data.groupby(\n"
     ]
    },
    {
     "data": {
      "image/png": "[encoded data removed]",
      "text/plain": [
       "<Figure size 900x350 with 1 Axes>"
      ]
     },
     "metadata": {},
     "output_type": "display_data"
    }
   ],
   "source": [
    "sns.histplot(cleaned_data, x='heart_disease', hue='diabetes',multiple='dodge', stat='count', alpha=0.4)\n",
    "plt.show()"
   ]
  },
  {
   "cell_type": "code",
   "execution_count": null,
   "id": "57eed692-ecc1-4778-990b-ab2c30287421",
   "metadata": {},
   "outputs": [],
   "source": []
  },
  {
   "cell_type": "code",
   "execution_count": 24,
   "id": "d5778b08-4595-41e2-9b15-5e7da19cd404",
   "metadata": {},
   "outputs": [
    {
     "name": "stderr",
     "output_type": "stream",
     "text": [
      "D:\\Anaconda\\Lib\\site-packages\\seaborn\\_oldcore.py:1119: FutureWarning: use_inf_as_na option is deprecated and will be removed in a future version. Convert inf values to NaN before operating instead.\n",
      "  with pd.option_context('mode.use_inf_as_na', True):\n",
      "D:\\Anaconda\\Lib\\site-packages\\seaborn\\_oldcore.py:1057: FutureWarning: The default of observed=False is deprecated and will be changed to True in a future version of pandas. Pass observed=False to retain current behavior or observed=True to adopt the future default and silence this warning.\n",
      "  grouped_data = data.groupby(\n",
      "D:\\Anaconda\\Lib\\site-packages\\seaborn\\_oldcore.py:1057: FutureWarning: The default of observed=False is deprecated and will be changed to True in a future version of pandas. Pass observed=False to retain current behavior or observed=True to adopt the future default and silence this warning.\n",
      "  grouped_data = data.groupby(\n"
     ]
    },
    {
     "data": {
      "image/png": "[encoded data removed]",
      "text/plain": [
       "<Figure size 900x350 with 1 Axes>"
      ]
     },
     "metadata": {},
     "output_type": "display_data"
    }
   ],
   "source": [
    "\n",
    "sns.histplot(cleaned_data, x='bmi', hue='diabetes',multiple='dodge', stat='count', alpha=0.4)\n",
    "plt.show()"
   ]
  },
  {
   "cell_type": "markdown",
   "id": "37859a9e-ded4-4963-acd7-24736ccc8047",
   "metadata": {},
   "source": [
    "## 分析数据"
   ]
  },
  {
   "cell_type": "markdown",
   "id": "d6ec4b09-954d-4aab-94c0-86ce26e65e00",
   "metadata": {},
   "source": [
    "##### 在分析步骤中，我们将利用以上清理后到的数据，进行逻辑回归分析，目标是得到一个可以根据患者的医疗和人口统计信息来预测糖尿病的数学模型。\n",
    "\n",
    "我们先引入做逻辑回归所需的模块。"
   ]
  },
  {
   "cell_type": "code",
   "execution_count": 25,
   "id": "abcbb582-56a3-4d09-9182-4cfa822db6e3",
   "metadata": {},
   "outputs": [],
   "source": [
    "import statsmodels.api as sm"
   ]
  },
  {
   "cell_type": "markdown",
   "id": "3d9e5e94-21ea-4c0a-8dec-4518180ba664",
   "metadata": {},
   "source": [
    "##### 然后可以创建一个新的DataFrame`lr_data`，让它作为我们进逻辑性回归分析所用的数据。\n",
    "\n",
    "和`cleaned_data`区分开的原因是，我们在进行回归分析前，还可能需要对数据进行一些准备，比如引入虚拟变量，这些都可以在`lr_data`上执行。"
   ]
  },
  {
   "cell_type": "code",
   "execution_count": 26,
   "id": "c07b7424-a2b2-4922-bbf0-c1daa82213d4",
   "metadata": {},
   "outputs": [
    {
     "data": {
      "text/html": [
       "<div>\n",
       "<style scoped>\n",
       "    .dataframe tbody tr th:only-of-type {\n",
       "        vertical-align: middle;\n",
       "    }\n",
       "\n",
       "    .dataframe tbody tr th {\n",
       "        vertical-align: top;\n",
       "    }\n",
       "\n",
       "    .dataframe thead th {\n",
       "        text-align: right;\n",
       "    }\n",
       "</style>\n",
       "<table border=\"1\" class=\"dataframe\">\n",
       "  <thead>\n",
       "    <tr style=\"text-align: right;\">\n",
       "      <th></th>\n",
       "      <th>gender</th>\n",
       "      <th>age</th>\n",
       "      <th>hypertension</th>\n",
       "      <th>heart_disease</th>\n",
       "      <th>smoking_history</th>\n",
       "      <th>bmi</th>\n",
       "      <th>HbA1c_level</th>\n",
       "      <th>blood_glucose_level</th>\n",
       "      <th>diabetes</th>\n",
       "    </tr>\n",
       "  </thead>\n",
       "  <tbody>\n",
       "    <tr>\n",
       "      <th>0</th>\n",
       "      <td>Female</td>\n",
       "      <td>80.0</td>\n",
       "      <td>0</td>\n",
       "      <td>1</td>\n",
       "      <td>never</td>\n",
       "      <td>25.19</td>\n",
       "      <td>6.6</td>\n",
       "      <td>140</td>\n",
       "      <td>0</td>\n",
       "    </tr>\n",
       "    <tr>\n",
       "      <th>1</th>\n",
       "      <td>Female</td>\n",
       "      <td>54.0</td>\n",
       "      <td>0</td>\n",
       "      <td>0</td>\n",
       "      <td>No Info</td>\n",
       "      <td>27.32</td>\n",
       "      <td>6.6</td>\n",
       "      <td>80</td>\n",
       "      <td>0</td>\n",
       "    </tr>\n",
       "    <tr>\n",
       "      <th>2</th>\n",
       "      <td>Male</td>\n",
       "      <td>28.0</td>\n",
       "      <td>0</td>\n",
       "      <td>0</td>\n",
       "      <td>never</td>\n",
       "      <td>27.32</td>\n",
       "      <td>5.7</td>\n",
       "      <td>158</td>\n",
       "      <td>0</td>\n",
       "    </tr>\n",
       "    <tr>\n",
       "      <th>3</th>\n",
       "      <td>Female</td>\n",
       "      <td>36.0</td>\n",
       "      <td>0</td>\n",
       "      <td>0</td>\n",
       "      <td>current</td>\n",
       "      <td>23.45</td>\n",
       "      <td>5.0</td>\n",
       "      <td>155</td>\n",
       "      <td>0</td>\n",
       "    </tr>\n",
       "    <tr>\n",
       "      <th>4</th>\n",
       "      <td>Male</td>\n",
       "      <td>76.0</td>\n",
       "      <td>1</td>\n",
       "      <td>1</td>\n",
       "      <td>current</td>\n",
       "      <td>20.14</td>\n",
       "      <td>4.8</td>\n",
       "      <td>155</td>\n",
       "      <td>0</td>\n",
       "    </tr>\n",
       "  </tbody>\n",
       "</table>\n",
       "</div>"
      ],
      "text/plain": [
       "   gender   age hypertension heart_disease smoking_history    bmi  \\\n",
       "0  Female  80.0            0             1           never  25.19   \n",
       "1  Female  54.0            0             0         No Info  27.32   \n",
       "2    Male  28.0            0             0           never  27.32   \n",
       "3  Female  36.0            0             0         current  23.45   \n",
       "4    Male  76.0            1             1         current  20.14   \n",
       "\n",
       "   HbA1c_level  blood_glucose_level diabetes  \n",
       "0          6.6                  140        0  \n",
       "1          6.6                   80        0  \n",
       "2          5.7                  158        0  \n",
       "3          5.0                  155        0  \n",
       "4          4.8                  155        0  "
      ]
     },
     "execution_count": 26,
     "metadata": {},
     "output_type": "execute_result"
    }
   ],
   "source": [
    "lr_data = cleaned_data.copy()\n",
    "lr_data.head()"
   ]
  },
  {
   "cell_type": "markdown",
   "id": "89c167e3-8781-4b3f-9777-2fe2695f60d9",
   "metadata": {},
   "source": [
    "##### 由分析可得，以上变量均对人们是否患有糖尿病有影响，所以保留以上全部变量"
   ]
  },
  {
   "cell_type": "markdown",
   "id": "40b090e8-6f7e-45d3-bfe9-63cb1d53e869",
   "metadata": {},
   "source": [
    "##### 数据里还存在分类变量，无法直接建立逻辑回归模型。我们需要引入虚拟变量，也就是用0和1分别表示是否属于该类别。"
   ]
  },
  {
   "cell_type": "code",
   "execution_count": 27,
   "id": "9b40f09e-4853-4bca-a960-fc7861025cdb",
   "metadata": {},
   "outputs": [
    {
     "data": {
      "text/html": [
       "<div>\n",
       "<style scoped>\n",
       "    .dataframe tbody tr th:only-of-type {\n",
       "        vertical-align: middle;\n",
       "    }\n",
       "\n",
       "    .dataframe tbody tr th {\n",
       "        vertical-align: top;\n",
       "    }\n",
       "\n",
       "    .dataframe thead th {\n",
       "        text-align: right;\n",
       "    }\n",
       "</style>\n",
       "<table border=\"1\" class=\"dataframe\">\n",
       "  <thead>\n",
       "    <tr style=\"text-align: right;\">\n",
       "      <th></th>\n",
       "      <th>age</th>\n",
       "      <th>bmi</th>\n",
       "      <th>HbA1c_level</th>\n",
       "      <th>blood_glucose_level</th>\n",
       "      <th>diabetes</th>\n",
       "      <th>gender_Male</th>\n",
       "      <th>gender_Other</th>\n",
       "      <th>hypertension_1</th>\n",
       "      <th>heart_disease_1</th>\n",
       "      <th>smoking_history_current</th>\n",
       "      <th>smoking_history_ever</th>\n",
       "      <th>smoking_history_former</th>\n",
       "      <th>smoking_history_never</th>\n",
       "      <th>smoking_history_not current</th>\n",
       "    </tr>\n",
       "  </thead>\n",
       "  <tbody>\n",
       "    <tr>\n",
       "      <th>0</th>\n",
       "      <td>80.0</td>\n",
       "      <td>25.19</td>\n",
       "      <td>6.6</td>\n",
       "      <td>140</td>\n",
       "      <td>0</td>\n",
       "      <td>0</td>\n",
       "      <td>0</td>\n",
       "      <td>0</td>\n",
       "      <td>1</td>\n",
       "      <td>0</td>\n",
       "      <td>0</td>\n",
       "      <td>0</td>\n",
       "      <td>1</td>\n",
       "      <td>0</td>\n",
       "    </tr>\n",
       "    <tr>\n",
       "      <th>1</th>\n",
       "      <td>54.0</td>\n",
       "      <td>27.32</td>\n",
       "      <td>6.6</td>\n",
       "      <td>80</td>\n",
       "      <td>0</td>\n",
       "      <td>0</td>\n",
       "      <td>0</td>\n",
       "      <td>0</td>\n",
       "      <td>0</td>\n",
       "      <td>0</td>\n",
       "      <td>0</td>\n",
       "      <td>0</td>\n",
       "      <td>0</td>\n",
       "      <td>0</td>\n",
       "    </tr>\n",
       "    <tr>\n",
       "      <th>2</th>\n",
       "      <td>28.0</td>\n",
       "      <td>27.32</td>\n",
       "      <td>5.7</td>\n",
       "      <td>158</td>\n",
       "      <td>0</td>\n",
       "      <td>1</td>\n",
       "      <td>0</td>\n",
       "      <td>0</td>\n",
       "      <td>0</td>\n",
       "      <td>0</td>\n",
       "      <td>0</td>\n",
       "      <td>0</td>\n",
       "      <td>1</td>\n",
       "      <td>0</td>\n",
       "    </tr>\n",
       "    <tr>\n",
       "      <th>3</th>\n",
       "      <td>36.0</td>\n",
       "      <td>23.45</td>\n",
       "      <td>5.0</td>\n",
       "      <td>155</td>\n",
       "      <td>0</td>\n",
       "      <td>0</td>\n",
       "      <td>0</td>\n",
       "      <td>0</td>\n",
       "      <td>0</td>\n",
       "      <td>1</td>\n",
       "      <td>0</td>\n",
       "      <td>0</td>\n",
       "      <td>0</td>\n",
       "      <td>0</td>\n",
       "    </tr>\n",
       "    <tr>\n",
       "      <th>4</th>\n",
       "      <td>76.0</td>\n",
       "      <td>20.14</td>\n",
       "      <td>4.8</td>\n",
       "      <td>155</td>\n",
       "      <td>0</td>\n",
       "      <td>1</td>\n",
       "      <td>0</td>\n",
       "      <td>1</td>\n",
       "      <td>1</td>\n",
       "      <td>1</td>\n",
       "      <td>0</td>\n",
       "      <td>0</td>\n",
       "      <td>0</td>\n",
       "      <td>0</td>\n",
       "    </tr>\n",
       "  </tbody>\n",
       "</table>\n",
       "</div>"
      ],
      "text/plain": [
       "    age    bmi  HbA1c_level  blood_glucose_level diabetes  gender_Male  \\\n",
       "0  80.0  25.19          6.6                  140        0            0   \n",
       "1  54.0  27.32          6.6                   80        0            0   \n",
       "2  28.0  27.32          5.7                  158        0            1   \n",
       "3  36.0  23.45          5.0                  155        0            0   \n",
       "4  76.0  20.14          4.8                  155        0            1   \n",
       "\n",
       "   gender_Other  hypertension_1  heart_disease_1  smoking_history_current  \\\n",
       "0             0               0                1                        0   \n",
       "1             0               0                0                        0   \n",
       "2             0               0                0                        0   \n",
       "3             0               0                0                        1   \n",
       "4             0               1                1                        1   \n",
       "\n",
       "   smoking_history_ever  smoking_history_former  smoking_history_never  \\\n",
       "0                     0                       0                      1   \n",
       "1                     0                       0                      0   \n",
       "2                     0                       0                      1   \n",
       "3                     0                       0                      0   \n",
       "4                     0                       0                      0   \n",
       "\n",
       "   smoking_history_not current  \n",
       "0                            0  \n",
       "1                            0  \n",
       "2                            0  \n",
       "3                            0  \n",
       "4                            0  "
      ]
     },
     "execution_count": 27,
     "metadata": {},
     "output_type": "execute_result"
    }
   ],
   "source": [
    "lr_data = pd.get_dummies(lr_data, drop_first=True, columns=['gender','hypertension','heart_disease','smoking_history'],dtype=int)\n",
    "lr_data.head()"
   ]
  },
  {
   "cell_type": "code",
   "execution_count": 28,
   "id": "e6c82f22-ab57-4c22-a329-ad340c345a8d",
   "metadata": {},
   "outputs": [
    {
     "name": "stdout",
     "output_type": "stream",
     "text": [
      "<class 'pandas.core.frame.DataFrame'>\n",
      "RangeIndex: 100000 entries, 0 to 99999\n",
      "Data columns (total 14 columns):\n",
      " #   Column                       Non-Null Count   Dtype   \n",
      "---  ------                       --------------   -----   \n",
      " 0   age                          100000 non-null  float64 \n",
      " 1   bmi                          100000 non-null  float64 \n",
      " 2   HbA1c_level                  100000 non-null  float64 \n",
      " 3   blood_glucose_level          100000 non-null  int64   \n",
      " 4   diabetes                     100000 non-null  category\n",
      " 5   gender_Male                  100000 non-null  int32   \n",
      " 6   gender_Other                 100000 non-null  int32   \n",
      " 7   hypertension_1               100000 non-null  int32   \n",
      " 8   heart_disease_1              100000 non-null  int32   \n",
      " 9   smoking_history_current      100000 non-null  int32   \n",
      " 10  smoking_history_ever         100000 non-null  int32   \n",
      " 11  smoking_history_former       100000 non-null  int32   \n",
      " 12  smoking_history_never        100000 non-null  int32   \n",
      " 13  smoking_history_not current  100000 non-null  int32   \n",
      "dtypes: category(1), float64(3), int32(9), int64(1)\n",
      "memory usage: 6.6 MB\n"
     ]
    }
   ],
   "source": [
    "lr_data.info()"
   ]
  },
  {
   "cell_type": "markdown",
   "id": "40c8c4c6-34eb-43eb-90a7-f8a966a51955",
   "metadata": {},
   "source": [
    "##### 接下来，我们要把因变量和自变量划分出来。\n",
    "\n",
    "因变量是`diabetes`变量，因为我们进行逻辑回归的目的，是根据患者的医疗和人口统计信息来预测患者得糖尿病的概率。"
   ]
  },
  {
   "cell_type": "code",
   "execution_count": 29,
   "id": "5f75d7d7-0d1f-476e-8ef8-9fe98913e411",
   "metadata": {},
   "outputs": [],
   "source": [
    "y = lr_data['diabetes']"
   ]
  },
  {
   "cell_type": "markdown",
   "id": "1a0caee0-eb06-4843-ab6a-7a33eaf891e9",
   "metadata": {},
   "source": [
    "##### 我们可以把除`diabetes`之外的先纳入自变量，但需要查看它们之间的相关性。如果其中有些变量之间相关性很高，会导致共线性。"
   ]
  },
  {
   "cell_type": "code",
   "execution_count": 30,
   "id": "d7f28fbc-8676-4a65-a4a1-dd86f0145e3e",
   "metadata": {},
   "outputs": [
    {
     "data": {
      "text/html": [
       "<div>\n",
       "<style scoped>\n",
       "    .dataframe tbody tr th:only-of-type {\n",
       "        vertical-align: middle;\n",
       "    }\n",
       "\n",
       "    .dataframe tbody tr th {\n",
       "        vertical-align: top;\n",
       "    }\n",
       "\n",
       "    .dataframe thead th {\n",
       "        text-align: right;\n",
       "    }\n",
       "</style>\n",
       "<table border=\"1\" class=\"dataframe\">\n",
       "  <thead>\n",
       "    <tr style=\"text-align: right;\">\n",
       "      <th></th>\n",
       "      <th>age</th>\n",
       "      <th>bmi</th>\n",
       "      <th>HbA1c_level</th>\n",
       "      <th>blood_glucose_level</th>\n",
       "      <th>gender_Male</th>\n",
       "      <th>gender_Other</th>\n",
       "      <th>hypertension_1</th>\n",
       "      <th>heart_disease_1</th>\n",
       "      <th>smoking_history_current</th>\n",
       "      <th>smoking_history_ever</th>\n",
       "      <th>smoking_history_former</th>\n",
       "      <th>smoking_history_never</th>\n",
       "      <th>smoking_history_not current</th>\n",
       "    </tr>\n",
       "  </thead>\n",
       "  <tbody>\n",
       "    <tr>\n",
       "      <th>age</th>\n",
       "      <td>1.000000</td>\n",
       "      <td>0.337396</td>\n",
       "      <td>0.101354</td>\n",
       "      <td>0.110672</td>\n",
       "      <td>-0.030282</td>\n",
       "      <td>-0.007348</td>\n",
       "      <td>0.251171</td>\n",
       "      <td>0.233354</td>\n",
       "      <td>0.030946</td>\n",
       "      <td>0.065768</td>\n",
       "      <td>0.216481</td>\n",
       "      <td>0.065498</td>\n",
       "      <td>0.067663</td>\n",
       "    </tr>\n",
       "    <tr>\n",
       "      <th>bmi</th>\n",
       "      <td>0.337396</td>\n",
       "      <td>1.000000</td>\n",
       "      <td>0.082997</td>\n",
       "      <td>0.091261</td>\n",
       "      <td>-0.023021</td>\n",
       "      <td>0.000119</td>\n",
       "      <td>0.147666</td>\n",
       "      <td>0.061198</td>\n",
       "      <td>0.053617</td>\n",
       "      <td>0.044343</td>\n",
       "      <td>0.111312</td>\n",
       "      <td>0.086849</td>\n",
       "      <td>0.034979</td>\n",
       "    </tr>\n",
       "    <tr>\n",
       "      <th>HbA1c_level</th>\n",
       "      <td>0.101354</td>\n",
       "      <td>0.082997</td>\n",
       "      <td>1.000000</td>\n",
       "      <td>0.166733</td>\n",
       "      <td>0.020058</td>\n",
       "      <td>-0.001528</td>\n",
       "      <td>0.080939</td>\n",
       "      <td>0.067589</td>\n",
       "      <td>0.006123</td>\n",
       "      <td>0.009655</td>\n",
       "      <td>0.037306</td>\n",
       "      <td>0.010684</td>\n",
       "      <td>0.009830</td>\n",
       "    </tr>\n",
       "    <tr>\n",
       "      <th>blood_glucose_level</th>\n",
       "      <td>0.110672</td>\n",
       "      <td>0.091261</td>\n",
       "      <td>0.166733</td>\n",
       "      <td>1.000000</td>\n",
       "      <td>0.017189</td>\n",
       "      <td>0.000457</td>\n",
       "      <td>0.084429</td>\n",
       "      <td>0.070066</td>\n",
       "      <td>0.012447</td>\n",
       "      <td>0.006267</td>\n",
       "      <td>0.040688</td>\n",
       "      <td>0.012475</td>\n",
       "      <td>0.008613</td>\n",
       "    </tr>\n",
       "    <tr>\n",
       "      <th>gender_Male</th>\n",
       "      <td>-0.030282</td>\n",
       "      <td>-0.023021</td>\n",
       "      <td>0.020058</td>\n",
       "      <td>0.017189</td>\n",
       "      <td>1.000000</td>\n",
       "      <td>-0.011285</td>\n",
       "      <td>0.014423</td>\n",
       "      <td>0.077911</td>\n",
       "      <td>0.026636</td>\n",
       "      <td>0.010991</td>\n",
       "      <td>0.049048</td>\n",
       "      <td>-0.098547</td>\n",
       "      <td>-0.011985</td>\n",
       "    </tr>\n",
       "    <tr>\n",
       "      <th>gender_Other</th>\n",
       "      <td>-0.007348</td>\n",
       "      <td>0.000119</td>\n",
       "      <td>-0.001528</td>\n",
       "      <td>0.000457</td>\n",
       "      <td>-0.011285</td>\n",
       "      <td>1.000000</td>\n",
       "      <td>-0.003816</td>\n",
       "      <td>-0.002718</td>\n",
       "      <td>-0.004293</td>\n",
       "      <td>0.001062</td>\n",
       "      <td>-0.004310</td>\n",
       "      <td>-0.005181</td>\n",
       "      <td>0.020760</td>\n",
       "    </tr>\n",
       "    <tr>\n",
       "      <th>hypertension_1</th>\n",
       "      <td>0.251171</td>\n",
       "      <td>0.147666</td>\n",
       "      <td>0.080939</td>\n",
       "      <td>0.084429</td>\n",
       "      <td>0.014423</td>\n",
       "      <td>-0.003816</td>\n",
       "      <td>1.000000</td>\n",
       "      <td>0.121262</td>\n",
       "      <td>0.017930</td>\n",
       "      <td>0.023124</td>\n",
       "      <td>0.083401</td>\n",
       "      <td>0.045953</td>\n",
       "      <td>0.000997</td>\n",
       "    </tr>\n",
       "    <tr>\n",
       "      <th>heart_disease_1</th>\n",
       "      <td>0.233354</td>\n",
       "      <td>0.061198</td>\n",
       "      <td>0.067589</td>\n",
       "      <td>0.070066</td>\n",
       "      <td>0.077911</td>\n",
       "      <td>-0.002718</td>\n",
       "      <td>0.121262</td>\n",
       "      <td>1.000000</td>\n",
       "      <td>0.007604</td>\n",
       "      <td>0.040671</td>\n",
       "      <td>0.095194</td>\n",
       "      <td>-0.030843</td>\n",
       "      <td>0.007922</td>\n",
       "    </tr>\n",
       "    <tr>\n",
       "      <th>smoking_history_current</th>\n",
       "      <td>0.030946</td>\n",
       "      <td>0.053617</td>\n",
       "      <td>0.006123</td>\n",
       "      <td>0.012447</td>\n",
       "      <td>0.026636</td>\n",
       "      <td>-0.004293</td>\n",
       "      <td>0.017930</td>\n",
       "      <td>0.007604</td>\n",
       "      <td>1.000000</td>\n",
       "      <td>-0.065343</td>\n",
       "      <td>-0.102766</td>\n",
       "      <td>-0.235267</td>\n",
       "      <td>-0.083990</td>\n",
       "    </tr>\n",
       "    <tr>\n",
       "      <th>smoking_history_ever</th>\n",
       "      <td>0.065768</td>\n",
       "      <td>0.044343</td>\n",
       "      <td>0.009655</td>\n",
       "      <td>0.006267</td>\n",
       "      <td>0.010991</td>\n",
       "      <td>0.001062</td>\n",
       "      <td>0.023124</td>\n",
       "      <td>0.040671</td>\n",
       "      <td>-0.065343</td>\n",
       "      <td>1.000000</td>\n",
       "      <td>-0.065598</td>\n",
       "      <td>-0.150177</td>\n",
       "      <td>-0.053613</td>\n",
       "    </tr>\n",
       "    <tr>\n",
       "      <th>smoking_history_former</th>\n",
       "      <td>0.216481</td>\n",
       "      <td>0.111312</td>\n",
       "      <td>0.037306</td>\n",
       "      <td>0.040688</td>\n",
       "      <td>0.049048</td>\n",
       "      <td>-0.004310</td>\n",
       "      <td>0.083401</td>\n",
       "      <td>0.095194</td>\n",
       "      <td>-0.102766</td>\n",
       "      <td>-0.065598</td>\n",
       "      <td>1.000000</td>\n",
       "      <td>-0.236187</td>\n",
       "      <td>-0.084319</td>\n",
       "    </tr>\n",
       "    <tr>\n",
       "      <th>smoking_history_never</th>\n",
       "      <td>0.065498</td>\n",
       "      <td>0.086849</td>\n",
       "      <td>0.010684</td>\n",
       "      <td>0.012475</td>\n",
       "      <td>-0.098547</td>\n",
       "      <td>-0.005181</td>\n",
       "      <td>0.045953</td>\n",
       "      <td>-0.030843</td>\n",
       "      <td>-0.235267</td>\n",
       "      <td>-0.150177</td>\n",
       "      <td>-0.236187</td>\n",
       "      <td>1.000000</td>\n",
       "      <td>-0.193034</td>\n",
       "    </tr>\n",
       "    <tr>\n",
       "      <th>smoking_history_not current</th>\n",
       "      <td>0.067663</td>\n",
       "      <td>0.034979</td>\n",
       "      <td>0.009830</td>\n",
       "      <td>0.008613</td>\n",
       "      <td>-0.011985</td>\n",
       "      <td>0.020760</td>\n",
       "      <td>0.000997</td>\n",
       "      <td>0.007922</td>\n",
       "      <td>-0.083990</td>\n",
       "      <td>-0.053613</td>\n",
       "      <td>-0.084319</td>\n",
       "      <td>-0.193034</td>\n",
       "      <td>1.000000</td>\n",
       "    </tr>\n",
       "  </tbody>\n",
       "</table>\n",
       "</div>"
      ],
      "text/plain": [
       "                                  age       bmi  HbA1c_level  \\\n",
       "age                          1.000000  0.337396     0.101354   \n",
       "bmi                          0.337396  1.000000     0.082997   \n",
       "HbA1c_level                  0.101354  0.082997     1.000000   \n",
       "blood_glucose_level          0.110672  0.091261     0.166733   \n",
       "gender_Male                 -0.030282 -0.023021     0.020058   \n",
       "gender_Other                -0.007348  0.000119    -0.001528   \n",
       "hypertension_1               0.251171  0.147666     0.080939   \n",
       "heart_disease_1              0.233354  0.061198     0.067589   \n",
       "smoking_history_current      0.030946  0.053617     0.006123   \n",
       "smoking_history_ever         0.065768  0.044343     0.009655   \n",
       "smoking_history_former       0.216481  0.111312     0.037306   \n",
       "smoking_history_never        0.065498  0.086849     0.010684   \n",
       "smoking_history_not current  0.067663  0.034979     0.009830   \n",
       "\n",
       "                             blood_glucose_level  gender_Male  gender_Other  \\\n",
       "age                                     0.110672    -0.030282     -0.007348   \n",
       "bmi                                     0.091261    -0.023021      0.000119   \n",
       "HbA1c_level                             0.166733     0.020058     -0.001528   \n",
       "blood_glucose_level                     1.000000     0.017189      0.000457   \n",
       "gender_Male                             0.017189     1.000000     -0.011285   \n",
       "gender_Other                            0.000457    -0.011285      1.000000   \n",
       "hypertension_1                          0.084429     0.014423     -0.003816   \n",
       "heart_disease_1                         0.070066     0.077911     -0.002718   \n",
       "smoking_history_current                 0.012447     0.026636     -0.004293   \n",
       "smoking_history_ever                    0.006267     0.010991      0.001062   \n",
       "smoking_history_former                  0.040688     0.049048     -0.004310   \n",
       "smoking_history_never                   0.012475    -0.098547     -0.005181   \n",
       "smoking_history_not current             0.008613    -0.011985      0.020760   \n",
       "\n",
       "                             hypertension_1  heart_disease_1  \\\n",
       "age                                0.251171         0.233354   \n",
       "bmi                                0.147666         0.061198   \n",
       "HbA1c_level                        0.080939         0.067589   \n",
       "blood_glucose_level                0.084429         0.070066   \n",
       "gender_Male                        0.014423         0.077911   \n",
       "gender_Other                      -0.003816        -0.002718   \n",
       "hypertension_1                     1.000000         0.121262   \n",
       "heart_disease_1                    0.121262         1.000000   \n",
       "smoking_history_current            0.017930         0.007604   \n",
       "smoking_history_ever               0.023124         0.040671   \n",
       "smoking_history_former             0.083401         0.095194   \n",
       "smoking_history_never              0.045953        -0.030843   \n",
       "smoking_history_not current        0.000997         0.007922   \n",
       "\n",
       "                             smoking_history_current  smoking_history_ever  \\\n",
       "age                                         0.030946              0.065768   \n",
       "bmi                                         0.053617              0.044343   \n",
       "HbA1c_level                                 0.006123              0.009655   \n",
       "blood_glucose_level                         0.012447              0.006267   \n",
       "gender_Male                                 0.026636              0.010991   \n",
       "gender_Other                               -0.004293              0.001062   \n",
       "hypertension_1                              0.017930              0.023124   \n",
       "heart_disease_1                             0.007604              0.040671   \n",
       "smoking_history_current                     1.000000             -0.065343   \n",
       "smoking_history_ever                       -0.065343              1.000000   \n",
       "smoking_history_former                     -0.102766             -0.065598   \n",
       "smoking_history_never                      -0.235267             -0.150177   \n",
       "smoking_history_not current                -0.083990             -0.053613   \n",
       "\n",
       "                             smoking_history_former  smoking_history_never  \\\n",
       "age                                        0.216481               0.065498   \n",
       "bmi                                        0.111312               0.086849   \n",
       "HbA1c_level                                0.037306               0.010684   \n",
       "blood_glucose_level                        0.040688               0.012475   \n",
       "gender_Male                                0.049048              -0.098547   \n",
       "gender_Other                              -0.004310              -0.005181   \n",
       "hypertension_1                             0.083401               0.045953   \n",
       "heart_disease_1                            0.095194              -0.030843   \n",
       "smoking_history_current                   -0.102766              -0.235267   \n",
       "smoking_history_ever                      -0.065598              -0.150177   \n",
       "smoking_history_former                     1.000000              -0.236187   \n",
       "smoking_history_never                     -0.236187               1.000000   \n",
       "smoking_history_not current               -0.084319              -0.193034   \n",
       "\n",
       "                             smoking_history_not current  \n",
       "age                                             0.067663  \n",
       "bmi                                             0.034979  \n",
       "HbA1c_level                                     0.009830  \n",
       "blood_glucose_level                             0.008613  \n",
       "gender_Male                                    -0.011985  \n",
       "gender_Other                                    0.020760  \n",
       "hypertension_1                                  0.000997  \n",
       "heart_disease_1                                 0.007922  \n",
       "smoking_history_current                        -0.083990  \n",
       "smoking_history_ever                           -0.053613  \n",
       "smoking_history_former                         -0.084319  \n",
       "smoking_history_never                          -0.193034  \n",
       "smoking_history_not current                     1.000000  "
      ]
     },
     "execution_count": 30,
     "metadata": {},
     "output_type": "execute_result"
    }
   ],
   "source": [
    "X = lr_data.drop(['diabetes'], axis=1)\n",
    "X.corr()"
   ]
  },
  {
   "cell_type": "markdown",
   "id": "bd3f2948-0f37-4274-b389-104904c4d420",
   "metadata": {},
   "source": [
    "##### 一般我们认为，当相关系数的绝对值大于0.8的时候，可能导致严重共线性，所以我们检查的时候，找绝对值大于0.8的值即可。"
   ]
  },
  {
   "cell_type": "code",
   "execution_count": 31,
   "id": "ed3c0b11-3ee3-4377-b030-62b9da222369",
   "metadata": {},
   "outputs": [
    {
     "data": {
      "text/html": [
       "<div>\n",
       "<style scoped>\n",
       "    .dataframe tbody tr th:only-of-type {\n",
       "        vertical-align: middle;\n",
       "    }\n",
       "\n",
       "    .dataframe tbody tr th {\n",
       "        vertical-align: top;\n",
       "    }\n",
       "\n",
       "    .dataframe thead th {\n",
       "        text-align: right;\n",
       "    }\n",
       "</style>\n",
       "<table border=\"1\" class=\"dataframe\">\n",
       "  <thead>\n",
       "    <tr style=\"text-align: right;\">\n",
       "      <th></th>\n",
       "      <th>age</th>\n",
       "      <th>bmi</th>\n",
       "      <th>HbA1c_level</th>\n",
       "      <th>blood_glucose_level</th>\n",
       "      <th>gender_Male</th>\n",
       "      <th>gender_Other</th>\n",
       "      <th>hypertension_1</th>\n",
       "      <th>heart_disease_1</th>\n",
       "      <th>smoking_history_current</th>\n",
       "      <th>smoking_history_ever</th>\n",
       "      <th>smoking_history_former</th>\n",
       "      <th>smoking_history_never</th>\n",
       "      <th>smoking_history_not current</th>\n",
       "    </tr>\n",
       "  </thead>\n",
       "  <tbody>\n",
       "    <tr>\n",
       "      <th>age</th>\n",
       "      <td>True</td>\n",
       "      <td>False</td>\n",
       "      <td>False</td>\n",
       "      <td>False</td>\n",
       "      <td>False</td>\n",
       "      <td>False</td>\n",
       "      <td>False</td>\n",
       "      <td>False</td>\n",
       "      <td>False</td>\n",
       "      <td>False</td>\n",
       "      <td>False</td>\n",
       "      <td>False</td>\n",
       "      <td>False</td>\n",
       "    </tr>\n",
       "    <tr>\n",
       "      <th>bmi</th>\n",
       "      <td>False</td>\n",
       "      <td>True</td>\n",
       "      <td>False</td>\n",
       "      <td>False</td>\n",
       "      <td>False</td>\n",
       "      <td>False</td>\n",
       "      <td>False</td>\n",
       "      <td>False</td>\n",
       "      <td>False</td>\n",
       "      <td>False</td>\n",
       "      <td>False</td>\n",
       "      <td>False</td>\n",
       "      <td>False</td>\n",
       "    </tr>\n",
       "    <tr>\n",
       "      <th>HbA1c_level</th>\n",
       "      <td>False</td>\n",
       "      <td>False</td>\n",
       "      <td>True</td>\n",
       "      <td>False</td>\n",
       "      <td>False</td>\n",
       "      <td>False</td>\n",
       "      <td>False</td>\n",
       "      <td>False</td>\n",
       "      <td>False</td>\n",
       "      <td>False</td>\n",
       "      <td>False</td>\n",
       "      <td>False</td>\n",
       "      <td>False</td>\n",
       "    </tr>\n",
       "    <tr>\n",
       "      <th>blood_glucose_level</th>\n",
       "      <td>False</td>\n",
       "      <td>False</td>\n",
       "      <td>False</td>\n",
       "      <td>True</td>\n",
       "      <td>False</td>\n",
       "      <td>False</td>\n",
       "      <td>False</td>\n",
       "      <td>False</td>\n",
       "      <td>False</td>\n",
       "      <td>False</td>\n",
       "      <td>False</td>\n",
       "      <td>False</td>\n",
       "      <td>False</td>\n",
       "    </tr>\n",
       "    <tr>\n",
       "      <th>gender_Male</th>\n",
       "      <td>False</td>\n",
       "      <td>False</td>\n",
       "      <td>False</td>\n",
       "      <td>False</td>\n",
       "      <td>True</td>\n",
       "      <td>False</td>\n",
       "      <td>False</td>\n",
       "      <td>False</td>\n",
       "      <td>False</td>\n",
       "      <td>False</td>\n",
       "      <td>False</td>\n",
       "      <td>False</td>\n",
       "      <td>False</td>\n",
       "    </tr>\n",
       "    <tr>\n",
       "      <th>gender_Other</th>\n",
       "      <td>False</td>\n",
       "      <td>False</td>\n",
       "      <td>False</td>\n",
       "      <td>False</td>\n",
       "      <td>False</td>\n",
       "      <td>True</td>\n",
       "      <td>False</td>\n",
       "      <td>False</td>\n",
       "      <td>False</td>\n",
       "      <td>False</td>\n",
       "      <td>False</td>\n",
       "      <td>False</td>\n",
       "      <td>False</td>\n",
       "    </tr>\n",
       "    <tr>\n",
       "      <th>hypertension_1</th>\n",
       "      <td>False</td>\n",
       "      <td>False</td>\n",
       "      <td>False</td>\n",
       "      <td>False</td>\n",
       "      <td>False</td>\n",
       "      <td>False</td>\n",
       "      <td>True</td>\n",
       "      <td>False</td>\n",
       "      <td>False</td>\n",
       "      <td>False</td>\n",
       "      <td>False</td>\n",
       "      <td>False</td>\n",
       "      <td>False</td>\n",
       "    </tr>\n",
       "    <tr>\n",
       "      <th>heart_disease_1</th>\n",
       "      <td>False</td>\n",
       "      <td>False</td>\n",
       "      <td>False</td>\n",
       "      <td>False</td>\n",
       "      <td>False</td>\n",
       "      <td>False</td>\n",
       "      <td>False</td>\n",
       "      <td>True</td>\n",
       "      <td>False</td>\n",
       "      <td>False</td>\n",
       "      <td>False</td>\n",
       "      <td>False</td>\n",
       "      <td>False</td>\n",
       "    </tr>\n",
       "    <tr>\n",
       "      <th>smoking_history_current</th>\n",
       "      <td>False</td>\n",
       "      <td>False</td>\n",
       "      <td>False</td>\n",
       "      <td>False</td>\n",
       "      <td>False</td>\n",
       "      <td>False</td>\n",
       "      <td>False</td>\n",
       "      <td>False</td>\n",
       "      <td>True</td>\n",
       "      <td>False</td>\n",
       "      <td>False</td>\n",
       "      <td>False</td>\n",
       "      <td>False</td>\n",
       "    </tr>\n",
       "    <tr>\n",
       "      <th>smoking_history_ever</th>\n",
       "      <td>False</td>\n",
       "      <td>False</td>\n",
       "      <td>False</td>\n",
       "      <td>False</td>\n",
       "      <td>False</td>\n",
       "      <td>False</td>\n",
       "      <td>False</td>\n",
       "      <td>False</td>\n",
       "      <td>False</td>\n",
       "      <td>True</td>\n",
       "      <td>False</td>\n",
       "      <td>False</td>\n",
       "      <td>False</td>\n",
       "    </tr>\n",
       "    <tr>\n",
       "      <th>smoking_history_former</th>\n",
       "      <td>False</td>\n",
       "      <td>False</td>\n",
       "      <td>False</td>\n",
       "      <td>False</td>\n",
       "      <td>False</td>\n",
       "      <td>False</td>\n",
       "      <td>False</td>\n",
       "      <td>False</td>\n",
       "      <td>False</td>\n",
       "      <td>False</td>\n",
       "      <td>True</td>\n",
       "      <td>False</td>\n",
       "      <td>False</td>\n",
       "    </tr>\n",
       "    <tr>\n",
       "      <th>smoking_history_never</th>\n",
       "      <td>False</td>\n",
       "      <td>False</td>\n",
       "      <td>False</td>\n",
       "      <td>False</td>\n",
       "      <td>False</td>\n",
       "      <td>False</td>\n",
       "      <td>False</td>\n",
       "      <td>False</td>\n",
       "      <td>False</td>\n",
       "      <td>False</td>\n",
       "      <td>False</td>\n",
       "      <td>True</td>\n",
       "      <td>False</td>\n",
       "    </tr>\n",
       "    <tr>\n",
       "      <th>smoking_history_not current</th>\n",
       "      <td>False</td>\n",
       "      <td>False</td>\n",
       "      <td>False</td>\n",
       "      <td>False</td>\n",
       "      <td>False</td>\n",
       "      <td>False</td>\n",
       "      <td>False</td>\n",
       "      <td>False</td>\n",
       "      <td>False</td>\n",
       "      <td>False</td>\n",
       "      <td>False</td>\n",
       "      <td>False</td>\n",
       "      <td>True</td>\n",
       "    </tr>\n",
       "  </tbody>\n",
       "</table>\n",
       "</div>"
      ],
      "text/plain": [
       "                               age    bmi  HbA1c_level  blood_glucose_level  \\\n",
       "age                           True  False        False                False   \n",
       "bmi                          False   True        False                False   \n",
       "HbA1c_level                  False  False         True                False   \n",
       "blood_glucose_level          False  False        False                 True   \n",
       "gender_Male                  False  False        False                False   \n",
       "gender_Other                 False  False        False                False   \n",
       "hypertension_1               False  False        False                False   \n",
       "heart_disease_1              False  False        False                False   \n",
       "smoking_history_current      False  False        False                False   \n",
       "smoking_history_ever         False  False        False                False   \n",
       "smoking_history_former       False  False        False                False   \n",
       "smoking_history_never        False  False        False                False   \n",
       "smoking_history_not current  False  False        False                False   \n",
       "\n",
       "                             gender_Male  gender_Other  hypertension_1  \\\n",
       "age                                False         False           False   \n",
       "bmi                                False         False           False   \n",
       "HbA1c_level                        False         False           False   \n",
       "blood_glucose_level                False         False           False   \n",
       "gender_Male                         True         False           False   \n",
       "gender_Other                       False          True           False   \n",
       "hypertension_1                     False         False            True   \n",
       "heart_disease_1                    False         False           False   \n",
       "smoking_history_current            False         False           False   \n",
       "smoking_history_ever               False         False           False   \n",
       "smoking_history_former             False         False           False   \n",
       "smoking_history_never              False         False           False   \n",
       "smoking_history_not current        False         False           False   \n",
       "\n",
       "                             heart_disease_1  smoking_history_current  \\\n",
       "age                                    False                    False   \n",
       "bmi                                    False                    False   \n",
       "HbA1c_level                            False                    False   \n",
       "blood_glucose_level                    False                    False   \n",
       "gender_Male                            False                    False   \n",
       "gender_Other                           False                    False   \n",
       "hypertension_1                         False                    False   \n",
       "heart_disease_1                         True                    False   \n",
       "smoking_history_current                False                     True   \n",
       "smoking_history_ever                   False                    False   \n",
       "smoking_history_former                 False                    False   \n",
       "smoking_history_never                  False                    False   \n",
       "smoking_history_not current            False                    False   \n",
       "\n",
       "                             smoking_history_ever  smoking_history_former  \\\n",
       "age                                         False                   False   \n",
       "bmi                                         False                   False   \n",
       "HbA1c_level                                 False                   False   \n",
       "blood_glucose_level                         False                   False   \n",
       "gender_Male                                 False                   False   \n",
       "gender_Other                                False                   False   \n",
       "hypertension_1                              False                   False   \n",
       "heart_disease_1                             False                   False   \n",
       "smoking_history_current                     False                   False   \n",
       "smoking_history_ever                         True                   False   \n",
       "smoking_history_former                      False                    True   \n",
       "smoking_history_never                       False                   False   \n",
       "smoking_history_not current                 False                   False   \n",
       "\n",
       "                             smoking_history_never  \\\n",
       "age                                          False   \n",
       "bmi                                          False   \n",
       "HbA1c_level                                  False   \n",
       "blood_glucose_level                          False   \n",
       "gender_Male                                  False   \n",
       "gender_Other                                 False   \n",
       "hypertension_1                               False   \n",
       "heart_disease_1                              False   \n",
       "smoking_history_current                      False   \n",
       "smoking_history_ever                         False   \n",
       "smoking_history_former                       False   \n",
       "smoking_history_never                         True   \n",
       "smoking_history_not current                  False   \n",
       "\n",
       "                             smoking_history_not current  \n",
       "age                                                False  \n",
       "bmi                                                False  \n",
       "HbA1c_level                                        False  \n",
       "blood_glucose_level                                False  \n",
       "gender_Male                                        False  \n",
       "gender_Other                                       False  \n",
       "hypertension_1                                     False  \n",
       "heart_disease_1                                    False  \n",
       "smoking_history_current                            False  \n",
       "smoking_history_ever                               False  \n",
       "smoking_history_former                             False  \n",
       "smoking_history_never                              False  \n",
       "smoking_history_not current                         True  "
      ]
     },
     "execution_count": 31,
     "metadata": {},
     "output_type": "execute_result"
    }
   ],
   "source": [
    "X.corr().abs() > 0.8"
   ]
  },
  {
   "cell_type": "markdown",
   "id": "7b8fbbde-e11a-490d-af35-a60ac7b6fa0b",
   "metadata": {},
   "source": [
    "##### 从以上输出结果来看，绝对值没有大于0.8的，不会导致共线性问题。"
   ]
  },
  {
   "cell_type": "markdown",
   "id": "09a36ccd-02f0-4841-b913-2e75e5f70589",
   "metadata": {},
   "source": [
    "##### 接下来，给模型的线性方程添加截距。"
   ]
  },
  {
   "cell_type": "code",
   "execution_count": 32,
   "id": "c1912368-e09a-4e0a-b9b8-6d2645ba2201",
   "metadata": {},
   "outputs": [],
   "source": [
    "X = sm.add_constant(X)"
   ]
  },
  {
   "cell_type": "markdown",
   "id": "aa142bd1-243d-47f0-be1b-a79b725bcc50",
   "metadata": {},
   "source": [
    "##### 下一步就可以调用`Logit`函数，利用最大似然优化来得到逻辑回归模型的参数值，并输出总结信息。"
   ]
  },
  {
   "cell_type": "code",
   "execution_count": 33,
   "id": "67d41193-c528-4686-8f97-4ad4370a99a7",
   "metadata": {},
   "outputs": [],
   "source": [
    "model = sm.Logit(y, X)\n"
   ]
  },
  {
   "cell_type": "markdown",
   "id": "0a3f562c-ae86-40a0-84d9-5f86e6e5d052",
   "metadata": {},
   "source": [
    "##### 由于模型无法收敛，我们尝试增加迭代次数"
   ]
  },
  {
   "cell_type": "code",
   "execution_count": 34,
   "id": "3d702e13-48ff-495e-913f-e7901b16af78",
   "metadata": {},
   "outputs": [
    {
     "name": "stdout",
     "output_type": "stream",
     "text": [
      "Warning: Maximum number of iterations has been exceeded.\n",
      "         Current function value: 0.113137\n",
      "         Iterations: 1000\n"
     ]
    },
    {
     "name": "stderr",
     "output_type": "stream",
     "text": [
      "D:\\Anaconda\\Lib\\site-packages\\statsmodels\\base\\model.py:607: ConvergenceWarning: Maximum Likelihood optimization failed to converge. Check mle_retvals\n",
      "  warnings.warn(\"Maximum Likelihood optimization failed to \"\n"
     ]
    },
    {
     "data": {
      "text/html": [
       "<table class=\"simpletable\">\n",
       "<caption>Logit Regression Results</caption>\n",
       "<tr>\n",
       "  <th>Dep. Variable:</th>       <td>diabetes</td>     <th>  No. Observations:  </th>  <td>100000</td> \n",
       "</tr>\n",
       "<tr>\n",
       "  <th>Model:</th>                 <td>Logit</td>      <th>  Df Residuals:      </th>  <td> 99986</td> \n",
       "</tr>\n",
       "<tr>\n",
       "  <th>Method:</th>                 <td>MLE</td>       <th>  Df Model:          </th>  <td>    13</td> \n",
       "</tr>\n",
       "<tr>\n",
       "  <th>Date:</th>            <td>Thu, 26 Sep 2024</td> <th>  Pseudo R-squ.:     </th>  <td>0.6110</td> \n",
       "</tr>\n",
       "<tr>\n",
       "  <th>Time:</th>                <td>13:30:42</td>     <th>  Log-Likelihood:    </th> <td> -11314.</td>\n",
       "</tr>\n",
       "<tr>\n",
       "  <th>converged:</th>             <td>False</td>      <th>  LL-Null:           </th> <td> -29081.</td>\n",
       "</tr>\n",
       "<tr>\n",
       "  <th>Covariance Type:</th>     <td>nonrobust</td>    <th>  LLR p-value:       </th>  <td> 0.000</td> \n",
       "</tr>\n",
       "</table>\n",
       "<table class=\"simpletable\">\n",
       "<tr>\n",
       "               <td></td>                  <th>coef</th>     <th>std err</th>      <th>z</th>      <th>P>|z|</th>  <th>[0.025</th>    <th>0.975]</th>  \n",
       "</tr>\n",
       "<tr>\n",
       "  <th>const</th>                       <td>  -27.8151</td> <td>    0.294</td> <td>  -94.742</td> <td> 0.000</td> <td>  -28.390</td> <td>  -27.240</td>\n",
       "</tr>\n",
       "<tr>\n",
       "  <th>age</th>                         <td>    0.0462</td> <td>    0.001</td> <td>   41.040</td> <td> 0.000</td> <td>    0.044</td> <td>    0.048</td>\n",
       "</tr>\n",
       "<tr>\n",
       "  <th>bmi</th>                         <td>    0.0890</td> <td>    0.003</td> <td>   34.819</td> <td> 0.000</td> <td>    0.084</td> <td>    0.094</td>\n",
       "</tr>\n",
       "<tr>\n",
       "  <th>HbA1c_level</th>                 <td>    2.3402</td> <td>    0.036</td> <td>   65.413</td> <td> 0.000</td> <td>    2.270</td> <td>    2.410</td>\n",
       "</tr>\n",
       "<tr>\n",
       "  <th>blood_glucose_level</th>         <td>    0.0334</td> <td>    0.000</td> <td>   69.207</td> <td> 0.000</td> <td>    0.032</td> <td>    0.034</td>\n",
       "</tr>\n",
       "<tr>\n",
       "  <th>gender_Male</th>                 <td>    0.2724</td> <td>    0.036</td> <td>    7.540</td> <td> 0.000</td> <td>    0.202</td> <td>    0.343</td>\n",
       "</tr>\n",
       "<tr>\n",
       "  <th>gender_Other</th>                <td>  -17.1968</td> <td> 8059.276</td> <td>   -0.002</td> <td> 0.998</td> <td>-1.58e+04</td> <td> 1.58e+04</td>\n",
       "</tr>\n",
       "<tr>\n",
       "  <th>hypertension_1</th>              <td>    0.7413</td> <td>    0.047</td> <td>   15.737</td> <td> 0.000</td> <td>    0.649</td> <td>    0.834</td>\n",
       "</tr>\n",
       "<tr>\n",
       "  <th>heart_disease_1</th>             <td>    0.7346</td> <td>    0.061</td> <td>   12.099</td> <td> 0.000</td> <td>    0.616</td> <td>    0.854</td>\n",
       "</tr>\n",
       "<tr>\n",
       "  <th>smoking_history_current</th>     <td>    0.7304</td> <td>    0.067</td> <td>   10.981</td> <td> 0.000</td> <td>    0.600</td> <td>    0.861</td>\n",
       "</tr>\n",
       "<tr>\n",
       "  <th>smoking_history_ever</th>        <td>    0.6794</td> <td>    0.085</td> <td>    7.955</td> <td> 0.000</td> <td>    0.512</td> <td>    0.847</td>\n",
       "</tr>\n",
       "<tr>\n",
       "  <th>smoking_history_former</th>      <td>    0.6220</td> <td>    0.060</td> <td>   10.405</td> <td> 0.000</td> <td>    0.505</td> <td>    0.739</td>\n",
       "</tr>\n",
       "<tr>\n",
       "  <th>smoking_history_never</th>       <td>    0.5738</td> <td>    0.049</td> <td>   11.739</td> <td> 0.000</td> <td>    0.478</td> <td>    0.670</td>\n",
       "</tr>\n",
       "<tr>\n",
       "  <th>smoking_history_not current</th> <td>    0.5190</td> <td>    0.075</td> <td>    6.929</td> <td> 0.000</td> <td>    0.372</td> <td>    0.666</td>\n",
       "</tr>\n",
       "</table><br/><br/>Possibly complete quasi-separation: A fraction 0.14 of observations can be<br/>perfectly predicted. This might indicate that there is complete<br/>quasi-separation. In this case some parameters will not be identified."
      ],
      "text/latex": [
       "\\begin{center}\n",
       "\\begin{tabular}{lclc}\n",
       "\\toprule\n",
       "\\textbf{Dep. Variable:}                &     diabetes     & \\textbf{  No. Observations:  } &   100000    \\\\\n",
       "\\textbf{Model:}                        &      Logit       & \\textbf{  Df Residuals:      } &    99986    \\\\\n",
       "\\textbf{Method:}                       &       MLE        & \\textbf{  Df Model:          } &       13    \\\\\n",
       "\\textbf{Date:}                         & Thu, 26 Sep 2024 & \\textbf{  Pseudo R-squ.:     } &   0.6110    \\\\\n",
       "\\textbf{Time:}                         &     13:30:42     & \\textbf{  Log-Likelihood:    } &   -11314.   \\\\\n",
       "\\textbf{converged:}                    &      False       & \\textbf{  LL-Null:           } &   -29081.   \\\\\n",
       "\\textbf{Covariance Type:}              &    nonrobust     & \\textbf{  LLR p-value:       } &    0.000    \\\\\n",
       "\\bottomrule\n",
       "\\end{tabular}\n",
       "\\begin{tabular}{lcccccc}\n",
       "                                       & \\textbf{coef} & \\textbf{std err} & \\textbf{z} & \\textbf{P$> |$z$|$} & \\textbf{[0.025} & \\textbf{0.975]}  \\\\\n",
       "\\midrule\n",
       "\\textbf{const}                         &     -27.8151  &        0.294     &   -94.742  &         0.000        &      -28.390    &      -27.240     \\\\\n",
       "\\textbf{age}                           &       0.0462  &        0.001     &    41.040  &         0.000        &        0.044    &        0.048     \\\\\n",
       "\\textbf{bmi}                           &       0.0890  &        0.003     &    34.819  &         0.000        &        0.084    &        0.094     \\\\\n",
       "\\textbf{HbA1c\\_level}                  &       2.3402  &        0.036     &    65.413  &         0.000        &        2.270    &        2.410     \\\\\n",
       "\\textbf{blood\\_glucose\\_level}         &       0.0334  &        0.000     &    69.207  &         0.000        &        0.032    &        0.034     \\\\\n",
       "\\textbf{gender\\_Male}                  &       0.2724  &        0.036     &     7.540  &         0.000        &        0.202    &        0.343     \\\\\n",
       "\\textbf{gender\\_Other}                 &     -17.1968  &     8059.276     &    -0.002  &         0.998        &    -1.58e+04    &     1.58e+04     \\\\\n",
       "\\textbf{hypertension\\_1}               &       0.7413  &        0.047     &    15.737  &         0.000        &        0.649    &        0.834     \\\\\n",
       "\\textbf{heart\\_disease\\_1}             &       0.7346  &        0.061     &    12.099  &         0.000        &        0.616    &        0.854     \\\\\n",
       "\\textbf{smoking\\_history\\_current}     &       0.7304  &        0.067     &    10.981  &         0.000        &        0.600    &        0.861     \\\\\n",
       "\\textbf{smoking\\_history\\_ever}        &       0.6794  &        0.085     &     7.955  &         0.000        &        0.512    &        0.847     \\\\\n",
       "\\textbf{smoking\\_history\\_former}      &       0.6220  &        0.060     &    10.405  &         0.000        &        0.505    &        0.739     \\\\\n",
       "\\textbf{smoking\\_history\\_never}       &       0.5738  &        0.049     &    11.739  &         0.000        &        0.478    &        0.670     \\\\\n",
       "\\textbf{smoking\\_history\\_not current} &       0.5190  &        0.075     &     6.929  &         0.000        &        0.372    &        0.666     \\\\\n",
       "\\bottomrule\n",
       "\\end{tabular}\n",
       "%\\caption{Logit Regression Results}\n",
       "\\end{center}\n",
       "\n",
       "Possibly complete quasi-separation: A fraction 0.14 of observations can be \\newline\n",
       " perfectly predicted. This might indicate that there is complete \\newline\n",
       " quasi-separation. In this case some parameters will not be identified."
      ],
      "text/plain": [
       "<class 'statsmodels.iolib.summary.Summary'>\n",
       "\"\"\"\n",
       "                           Logit Regression Results                           \n",
       "==============================================================================\n",
       "Dep. Variable:               diabetes   No. Observations:               100000\n",
       "Model:                          Logit   Df Residuals:                    99986\n",
       "Method:                           MLE   Df Model:                           13\n",
       "Date:                Thu, 26 Sep 2024   Pseudo R-squ.:                  0.6110\n",
       "Time:                        13:30:42   Log-Likelihood:                -11314.\n",
       "converged:                      False   LL-Null:                       -29081.\n",
       "Covariance Type:            nonrobust   LLR p-value:                     0.000\n",
       "===============================================================================================\n",
       "                                  coef    std err          z      P>|z|      [0.025      0.975]\n",
       "-----------------------------------------------------------------------------------------------\n",
       "const                         -27.8151      0.294    -94.742      0.000     -28.390     -27.240\n",
       "age                             0.0462      0.001     41.040      0.000       0.044       0.048\n",
       "bmi                             0.0890      0.003     34.819      0.000       0.084       0.094\n",
       "HbA1c_level                     2.3402      0.036     65.413      0.000       2.270       2.410\n",
       "blood_glucose_level             0.0334      0.000     69.207      0.000       0.032       0.034\n",
       "gender_Male                     0.2724      0.036      7.540      0.000       0.202       0.343\n",
       "gender_Other                  -17.1968   8059.276     -0.002      0.998   -1.58e+04    1.58e+04\n",
       "hypertension_1                  0.7413      0.047     15.737      0.000       0.649       0.834\n",
       "heart_disease_1                 0.7346      0.061     12.099      0.000       0.616       0.854\n",
       "smoking_history_current         0.7304      0.067     10.981      0.000       0.600       0.861\n",
       "smoking_history_ever            0.6794      0.085      7.955      0.000       0.512       0.847\n",
       "smoking_history_former          0.6220      0.060     10.405      0.000       0.505       0.739\n",
       "smoking_history_never           0.5738      0.049     11.739      0.000       0.478       0.670\n",
       "smoking_history_not current     0.5190      0.075      6.929      0.000       0.372       0.666\n",
       "===============================================================================================\n",
       "\n",
       "Possibly complete quasi-separation: A fraction 0.14 of observations can be\n",
       "perfectly predicted. This might indicate that there is complete\n",
       "quasi-separation. In this case some parameters will not be identified.\n",
       "\"\"\""
      ]
     },
     "execution_count": 34,
     "metadata": {},
     "output_type": "execute_result"
    }
   ],
   "source": [
    "# 尝试增加最大迭代次数\n",
    "result = model.fit(maxiter=1000, start_params=[0] * X.shape[1])\n",
    "result.summary()"
   ]
  },
  {
   "cell_type": "code",
   "execution_count": null,
   "id": "26f0b762-7c1d-4b63-92dd-8132a9381be3",
   "metadata": {},
   "outputs": [],
   "source": []
  }
 ],
 "metadata": {
  "kernelspec": {
   "display_name": "Python 3 (ipykernel)",
   "language": "python",
   "name": "python3"
  },
  "language_info": {
   "codemirror_mode": {
    "name": "ipython",
    "version": 3
   },
   "file_extension": ".py",
   "mimetype": "text/x-python",
   "name": "python",
   "nbconvert_exporter": "python",
   "pygments_lexer": "ipython3",
   "version": "3.11.7"
  }
 },
 "nbformat": 4,
 "nbformat_minor": 5
}
